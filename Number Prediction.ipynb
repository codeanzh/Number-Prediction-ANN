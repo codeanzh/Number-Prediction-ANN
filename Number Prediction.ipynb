{
 "cells": [
  {
   "cell_type": "code",
   "execution_count": 118,
   "metadata": {},
   "outputs": [],
   "source": [
    "#import packages\n",
    "import numpy as np\n",
    "import pickle\n",
    "import gzip\n",
    "import matplotlib.pyplot as plt\n",
    "import cv2"
   ]
  },
  {
   "cell_type": "code",
   "execution_count": 14,
   "metadata": {},
   "outputs": [],
   "source": [
    "#load data\n",
    "f=gzip.open('mnist.pkl.gz','rb')\n",
    "u=pickle._Unpickler(f)\n",
    "u.encoding='latin1'\n",
    "training_data,validation_data,test_data=u.load()"
   ]
  },
  {
   "cell_type": "code",
   "execution_count": 55,
   "metadata": {},
   "outputs": [],
   "source": [
    "#one hot encoder function\n",
    "def one_hot_encoder(x):\n",
    "    one_hot=np.zeros((len(x),10))\n",
    "    rows=np.arange(x.size)\n",
    "    one_hot[rows,x]=1\n",
    "    return one_hot.T"
   ]
  },
  {
   "cell_type": "code",
   "execution_count": 56,
   "metadata": {},
   "outputs": [],
   "source": [
    "#get training data\n",
    "x_training_data=np.array(training_data[0]).T\n",
    "y_training_data=one_hot_encoder(np.array(training_data[1]))"
   ]
  },
  {
   "cell_type": "code",
   "execution_count": 57,
   "metadata": {},
   "outputs": [],
   "source": [
    "#get test data\n",
    "x_test_data=np.array(test_data[0]).T\n",
    "y_test_data=one_hot_encoder(np.array(test_data[1]))"
   ]
  },
  {
   "cell_type": "code",
   "execution_count": 58,
   "metadata": {},
   "outputs": [],
   "source": [
    "#get devlopment data\n",
    "x_dev_data=np.array(validation_data[0]).T\n",
    "y_dev_data=one_hot_encoder(np.array(validation_data[1]))"
   ]
  },
  {
   "cell_type": "code",
   "execution_count": 48,
   "metadata": {},
   "outputs": [],
   "source": [
    "#functions and derivative\n",
    "def softmax(z):\n",
    "    return np.exp(z)/np.sum(np.exp(z),axis=0,keepdims=True)\n",
    "\n",
    "def relu(z):\n",
    "    return np.where(z>0,z,0.001*z)\n",
    "\n",
    "def relu_(z):\n",
    "    return np.where(z>0,1,0.001)"
   ]
  },
  {
   "cell_type": "code",
   "execution_count": 49,
   "metadata": {},
   "outputs": [],
   "source": [
    "#cost function\n",
    "def cost(y,yhat,m):\n",
    "    return -1*np.sum(y*np.log(yhat))/m"
   ]
  },
  {
   "cell_type": "code",
   "execution_count": 23,
   "metadata": {},
   "outputs": [],
   "source": [
    "#initialise epoch\n",
    "def epoch(training_size,epoch_size,parameter,x1,y1):\n",
    "    if training_size%epoch_size==0:\n",
    "        size=training_size/epoch_size\n",
    "        parameter[\"num_epoch\"]=size\n",
    "        for i in range(1,size+1):\n",
    "            parameter[\"x\"+str(i)]=x1[:,(i-1)*epoch_size:i*epoch_size]\n",
    "            parameter[\"y\"+str(i)]=y1[:,(i-1)*epoch_size:i*epoch_size]\n",
    "        return parameter\n",
    "    size=training_size//epoch_size\n",
    "    parameter[\"num_epoch\"]=size+1\n",
    "    for i in range(1,size+1):\n",
    "        parameter[\"x\"+str(i)]=x1[:,(i-1)*epoch_size:i*epoch_size]\n",
    "        parameter[\"y\"+str(i)]=y1[:,(i-1)*epoch_size:i*epoch_size]\n",
    "    parameter[\"x\"+str(size+1)]=x1[:,size*epoch_size:-1]\n",
    "    parameter[\"y\"+str(size+1)]=y1[:,size*epoch_size:-1]\n",
    "    return parameter"
   ]
  },
  {
   "cell_type": "code",
   "execution_count": 47,
   "metadata": {},
   "outputs": [],
   "source": [
    "#initialise layer\n",
    "def initialise_layer(x):\n",
    "    layer=[x.shape[0],64,128,64,64,10]\n",
    "    return layer"
   ]
  },
  {
   "cell_type": "code",
   "execution_count": 33,
   "metadata": {},
   "outputs": [],
   "source": [
    "#initialise weights and bias\n",
    "def initialise_wb(layer,parameter,L):\n",
    "    for l in range(1,L+1):\n",
    "        parameter[\"w\"+str(l)]=np.random.randn(layer[l],layer[l-1])*((2/layer[l-1])**0.5)\n",
    "        parameter[\"b\"+str(l)]=np.zeros((layer[l],1))\n",
    "    return parameter"
   ]
  },
  {
   "cell_type": "code",
   "execution_count": 42,
   "metadata": {},
   "outputs": [],
   "source": [
    "#forward propagation\n",
    "def forward_propagation(parameter,L):\n",
    "    for l in range(1,L):\n",
    "        parameter[\"a\"+str(l)]=relu(np.dot(parameter[\"w\"+str(l)],parameter[\"a\"+str(l-1)])+parameter[\"b\"+str(l)])\n",
    "    parameter[\"a\"+str(L)]=softmax(np.dot(parameter[\"w\"+str(L)],parameter[\"a\"+str(L-1)])+parameter[\"b\"+str(L)])\n",
    "    return parameter"
   ]
  },
  {
   "cell_type": "code",
   "execution_count": 35,
   "metadata": {},
   "outputs": [],
   "source": [
    "#back propagation\n",
    "def back_propagation(parameter,L,y,m):\n",
    "    parameter[\"dz\"+str(L)]=parameter[\"a\"+str(L)]-y\n",
    "    parameter[\"dw\"+str(L)]=np.dot(parameter[\"dz\"+str(L)],parameter[\"a\"+str(L-1)].T)/m\n",
    "    parameter[\"db\"+str(L)]=np.sum(parameter[\"dz\"+str(L)],axis=1,keepdims=True)/m\n",
    "    for l in reversed(range(1,L)):\n",
    "        parameter[\"dz\"+str(l)]=np.dot(parameter[\"w\"+str(l+1)].T,parameter[\"dz\"+str(l+1)])*relu_(parameter[\"a\"+str(l)])\n",
    "        parameter[\"dw\"+str(l)]=np.dot(parameter[\"dz\"+str(l)],parameter[\"a\"+str(l-1)].T)/m\n",
    "        parameter[\"db\"+str(l)]=np.sum(parameter[\"dz\"+str(l)],axis=1,keepdims=True)/m\n",
    "    return parameter"
   ]
  },
  {
   "cell_type": "code",
   "execution_count": 36,
   "metadata": {},
   "outputs": [],
   "source": [
    "#gradiant descent withought adam\n",
    "def gradiant_discent(parameter,alpha,L):\n",
    "    for l in range(1,L+1):\n",
    "        parameter[\"w\"+str(l)]=parameter[\"w\"+str(l)]-alpha*parameter[\"dw\"+str(l)]\n",
    "        parameter[\"b\"+str(l)]=parameter[\"b\"+str(l)]-alpha*parameter[\"db\"+str(l)]\n",
    "    return parameter"
   ]
  },
  {
   "cell_type": "code",
   "execution_count": 68,
   "metadata": {},
   "outputs": [],
   "source": [
    "#training data\n",
    "def start_training(parameter,L,alpha):\n",
    "    for i in range(1,parameter[\"num_epoch\"]+1):\n",
    "        parameter[\"a0\"]=parameter[\"x\"+str(i)]\n",
    "        parameter=forward_propagation(parameter,L)\n",
    "        parameter=back_propagation(parameter,L,parameter[\"y\"+str(i)],parameter[\"y\"+str(i)].shape[1])\n",
    "        parameter=gradiant_discent(parameter,alpha,L)\n",
    "    return parameter"
   ]
  },
  {
   "cell_type": "code",
   "execution_count": 83,
   "metadata": {},
   "outputs": [],
   "source": [
    "#test on dev data\n",
    "def start_test(parameter,L,m,y):\n",
    "    parameter=forward_propagation(parameter,L)\n",
    "    acc=0\n",
    "    for i in range(y.shape[1]):\n",
    "        max_=0\n",
    "        for j in range(10):\n",
    "            max_=max_ if parameter[\"a\"+str(L)][max_][i]>parameter[\"a\"+str(L)][j][i] else j\n",
    "        if y[max_][i]==1:\n",
    "            acc+=1\n",
    "    print(\"Accuracy on dev set is\",acc*100/y.shape[1],\"%\")"
   ]
  },
  {
   "cell_type": "code",
   "execution_count": 169,
   "metadata": {},
   "outputs": [],
   "source": [
    "#train\n",
    "def train():\n",
    "    x1=x_training_data\n",
    "    y1=y_training_data\n",
    "    layer=initialise_layer(x1)\n",
    "    L=len(layer)-1\n",
    "    parameter={}\n",
    "    parameter=initialise_wb(layer,parameter,L)\n",
    "    epoch_size=256\n",
    "    parameter=epoch(x1.shape[1],epoch_size,parameter,x1,y1)\n",
    "    num_iteration=150\n",
    "    alpha=0.005\n",
    "    x=x_dev_data\n",
    "    y=y_dev_data\n",
    "    for i in range(1,num_iteration+1):\n",
    "        parameter=start_training(parameter,L,alpha)\n",
    "        if i%5==0:\n",
    "            parameter[\"a0\"]=x1\n",
    "            parameter=forward_propagation(parameter,L)\n",
    "            print(\"At\",i,\"th iteration cost ===>>>\",cost(y1,parameter[\"a\"+str(L)],y1.shape[1]))\n",
    "            acc=0\n",
    "            for k in range(y1.shape[1]):\n",
    "                max_=0\n",
    "                for j in range(10):\n",
    "                    max_=max_ if parameter[\"a\"+str(L)][max_][k]>parameter[\"a\"+str(L)][j][k] else j\n",
    "                if y1[max_][k]==1:\n",
    "                    acc+=1\n",
    "            print(\"Accuracy on training set is\",acc*100/y1.shape[1],\"%\")\n",
    "            m=x.shape[1]\n",
    "            parameter[\"a0\"]=x\n",
    "            start_test(parameter,L,m,y)\n",
    "    return parameter,L"
   ]
  },
  {
   "cell_type": "code",
   "execution_count": 170,
   "metadata": {},
   "outputs": [
    {
     "name": "stdout",
     "output_type": "stream",
     "text": [
      "At 5 th iteration cost ===>>> 0.7132369037782093\n",
      "Accuracy on training set is 80.856 %\n",
      "Accuracy on dev set is 82.11 %\n",
      "At 10 th iteration cost ===>>> 0.40401068569294396\n",
      "Accuracy on training set is 88.746 %\n",
      "Accuracy on dev set is 89.79 %\n",
      "At 15 th iteration cost ===>>> 0.3190465603606973\n",
      "Accuracy on training set is 90.902 %\n",
      "Accuracy on dev set is 91.65 %\n",
      "At 20 th iteration cost ===>>> 0.2735814973649217\n",
      "Accuracy on training set is 92.088 %\n",
      "Accuracy on dev set is 92.95 %\n",
      "At 25 th iteration cost ===>>> 0.24232972595327615\n",
      "Accuracy on training set is 93.016 %\n",
      "Accuracy on dev set is 93.68 %\n",
      "At 30 th iteration cost ===>>> 0.21832532762780907\n",
      "Accuracy on training set is 93.708 %\n",
      "Accuracy on dev set is 94.23 %\n",
      "At 35 th iteration cost ===>>> 0.19893508537138782\n",
      "Accuracy on training set is 94.234 %\n",
      "Accuracy on dev set is 94.73 %\n",
      "At 40 th iteration cost ===>>> 0.18289630642311192\n",
      "Accuracy on training set is 94.714 %\n",
      "Accuracy on dev set is 94.95 %\n",
      "At 45 th iteration cost ===>>> 0.16938048157369917\n",
      "Accuracy on training set is 95.068 %\n",
      "Accuracy on dev set is 95.3 %\n",
      "At 50 th iteration cost ===>>> 0.15781935256442264\n",
      "Accuracy on training set is 95.442 %\n",
      "Accuracy on dev set is 95.51 %\n",
      "At 55 th iteration cost ===>>> 0.14768897270123973\n",
      "Accuracy on training set is 95.722 %\n",
      "Accuracy on dev set is 95.61 %\n",
      "At 60 th iteration cost ===>>> 0.13868987499981844\n",
      "Accuracy on training set is 95.968 %\n",
      "Accuracy on dev set is 95.8 %\n",
      "At 65 th iteration cost ===>>> 0.130649088821667\n",
      "Accuracy on training set is 96.214 %\n",
      "Accuracy on dev set is 95.93 %\n",
      "At 70 th iteration cost ===>>> 0.12337037133309635\n",
      "Accuracy on training set is 96.448 %\n",
      "Accuracy on dev set is 96.0 %\n",
      "At 75 th iteration cost ===>>> 0.11677080614009377\n",
      "Accuracy on training set is 96.658 %\n",
      "Accuracy on dev set is 96.03 %\n",
      "At 80 th iteration cost ===>>> 0.11075489836526602\n",
      "Accuracy on training set is 96.852 %\n",
      "Accuracy on dev set is 96.14 %\n",
      "At 85 th iteration cost ===>>> 0.10529477676322284\n",
      "Accuracy on training set is 97.016 %\n",
      "Accuracy on dev set is 96.25 %\n",
      "At 90 th iteration cost ===>>> 0.1001876641835198\n",
      "Accuracy on training set is 97.178 %\n",
      "Accuracy on dev set is 96.38 %\n",
      "At 95 th iteration cost ===>>> 0.09544787973685125\n",
      "Accuracy on training set is 97.314 %\n",
      "Accuracy on dev set is 96.43 %\n",
      "At 100 th iteration cost ===>>> 0.09105189836188901\n",
      "Accuracy on training set is 97.452 %\n",
      "Accuracy on dev set is 96.52 %\n",
      "At 105 th iteration cost ===>>> 0.0868891811783472\n",
      "Accuracy on training set is 97.59 %\n",
      "Accuracy on dev set is 96.57 %\n",
      "At 110 th iteration cost ===>>> 0.08302439201330548\n",
      "Accuracy on training set is 97.69 %\n",
      "Accuracy on dev set is 96.58 %\n",
      "At 115 th iteration cost ===>>> 0.07940133034285289\n",
      "Accuracy on training set is 97.81 %\n",
      "Accuracy on dev set is 96.61 %\n",
      "At 120 th iteration cost ===>>> 0.07603527436199531\n",
      "Accuracy on training set is 97.908 %\n",
      "Accuracy on dev set is 96.63 %\n",
      "At 125 th iteration cost ===>>> 0.07282765142068252\n",
      "Accuracy on training set is 97.992 %\n",
      "Accuracy on dev set is 96.68 %\n",
      "At 130 th iteration cost ===>>> 0.0697833815791797\n",
      "Accuracy on training set is 98.096 %\n",
      "Accuracy on dev set is 96.72 %\n",
      "At 135 th iteration cost ===>>> 0.06690912540832053\n",
      "Accuracy on training set is 98.162 %\n",
      "Accuracy on dev set is 96.79 %\n",
      "At 140 th iteration cost ===>>> 0.06419333310650803\n",
      "Accuracy on training set is 98.248 %\n",
      "Accuracy on dev set is 96.83 %\n",
      "At 145 th iteration cost ===>>> 0.061574320221609205\n",
      "Accuracy on training set is 98.324 %\n",
      "Accuracy on dev set is 96.86 %\n",
      "At 150 th iteration cost ===>>> 0.059127477233918216\n",
      "Accuracy on training set is 98.418 %\n",
      "Accuracy on dev set is 96.87 %\n"
     ]
    }
   ],
   "source": [
    "#application\n",
    "parameter,L=train()"
   ]
  },
  {
   "cell_type": "code",
   "execution_count": 172,
   "metadata": {},
   "outputs": [
    {
     "name": "stdout",
     "output_type": "stream",
     "text": [
      "Accuracy on test set is 96.55 %\n"
     ]
    }
   ],
   "source": [
    "#test on test data\n",
    "parameter[\"a0\"]=x_test_data\n",
    "y=y_test_data\n",
    "parameter=forward_propagation(parameter,L)\n",
    "acc=0\n",
    "for i in range(y.shape[1]):\n",
    "    max_=0\n",
    "    for j in range(10):\n",
    "        max_=max_ if parameter[\"a\"+str(L)][max_][i]>parameter[\"a\"+str(L)][j][i] else j\n",
    "    if y[max_][i]==1:\n",
    "        acc+=1\n",
    "print(\"Accuracy on test set is\",acc*100/y.shape[1],\"%\")"
   ]
  },
  {
   "cell_type": "code",
   "execution_count": 173,
   "metadata": {},
   "outputs": [],
   "source": [
    "#COLLECTING DATA\n",
    "weight=[]\n",
    "bias=[]\n",
    "for l in range(L):\n",
    "    weight.append(parameter[\"w\"+str(l+1)])\n",
    "    bias.append(parameter[\"b\"+str(l+1)])\n",
    "pickle.dump(weight,open(\"weight.p\",\"wb\"))\n",
    "pickle.dump(bias,open(\"bias.p\",\"wb\"))\n",
    "pickle.dump(L,open(\"length.p\",\"wb\"))"
   ]
  },
  {
   "cell_type": "code",
   "execution_count": 168,
   "metadata": {},
   "outputs": [
    {
     "name": "stdout",
     "output_type": "stream",
     "text": [
      "Predicted Number is  4\n"
     ]
    },
    {
     "data": {
      "image/png": "[encoded data removed]",
      "text/plain": [
       "<Figure size 432x288 with 1 Axes>"
      ]
     },
     "metadata": {
      "needs_background": "light"
     },
     "output_type": "display_data"
    }
   ],
   "source": [
    "#testing data\n",
    "x=x_test_data.T[2022].reshape(784,1)\n",
    "plt.imshow(x.reshape(28,28))\n",
    "parameter[\"a0\"]=x\n",
    "parameter=forward_propagation(parameter,L)\n",
    "max_=0\n",
    "for i in range(10):\n",
    "    max_=max_ if parameter[\"a\"+str(L)][max_][0]>parameter[\"a\"+str(L)][i][0] else i\n",
    "print(\"Predicted Number is \",max_)"
   ]
  },
  {
   "cell_type": "code",
   "execution_count": 166,
   "metadata": {},
   "outputs": [
    {
     "name": "stdout",
     "output_type": "stream",
     "text": [
      "Predicted Number with top 3 priority is  5 3 9\n"
     ]
    },
    {
     "data": {
      "image/png": "[encoded data removed]",
      "text/plain": [
       "<Figure size 432x288 with 1 Axes>"
      ]
     },
     "metadata": {
      "needs_background": "light"
     },
     "output_type": "display_data"
    }
   ],
   "source": [
    "#testing data with top 3 predictions\n",
    "x=x_test_data.T[2021].reshape(784,1)\n",
    "plt.imshow(x.reshape(28,28))\n",
    "parameter[\"a0\"]=x\n",
    "parameter=forward_propagation(parameter,L)\n",
    "arr=np.array(parameter[\"a\"+str(L)])\n",
    "sort_array=[]\n",
    "for i in range(10):\n",
    "    sort_array.append((arr[i],i))\n",
    "for i in range(10):\n",
    "    for j in range(i,10):\n",
    "        if sort_array[i][0]<sort_array[j][0]:\n",
    "            sort_array[i],sort_array[j]=sort_array[j],sort_array[i]\n",
    "print(\"Predicted Number with top 3 priority is \",sort_array[0][1],sort_array[1][1],sort_array[2][1])"
   ]
  },
  {
   "cell_type": "code",
   "execution_count": 165,
   "metadata": {},
   "outputs": [
    {
     "name": "stdout",
     "output_type": "stream",
     "text": [
      "Predicted Number with top 3 priority is  2 4 6\n"
     ]
    },
    {
     "data": {
      "image/png": "[encoded data removed]",
      "text/plain": [
       "<Figure size 432x288 with 1 Axes>"
      ]
     },
     "metadata": {
      "needs_background": "light"
     },
     "output_type": "display_data"
    }
   ],
   "source": [
    "#testing own image with top 3 priority\n",
    "img=cv2.imread(\"test.jpg\",0)\n",
    "img=cv2.resize(img,(28,28))/255\n",
    "img=np.where(img==1,0,img)\n",
    "plt.imshow(img)\n",
    "parameter[\"a0\"]=img.reshape(784,1)\n",
    "parameter=forward_propagation(parameter,L)\n",
    "arr=np.array(parameter[\"a\"+str(L)])\n",
    "sort_array=[]\n",
    "for i in range(10):\n",
    "    sort_array.append((arr[i],i))\n",
    "for i in range(10):\n",
    "    for j in range(i,10):\n",
    "        if sort_array[i][0]<sort_array[j][0]:\n",
    "            sort_array[i],sort_array[j]=sort_array[j],sort_array[i]\n",
    "print(\"Predicted Number with top 3 priority is \",sort_array[0][1],sort_array[1][1],sort_array[2][1])"
   ]
  },
  {
   "cell_type": "code",
   "execution_count": null,
   "metadata": {},
   "outputs": [],
   "source": []
  }
 ],
 "metadata": {
  "kernelspec": {
   "display_name": "Python 3",
   "language": "python",
   "name": "python3"
  },
  "language_info": {
   "codemirror_mode": {
    "name": "ipython",
    "version": 3
   },
   "file_extension": ".py",
   "mimetype": "text/x-python",
   "name": "python",
   "nbconvert_exporter": "python",
   "pygments_lexer": "ipython3",
   "version": "3.7.4"
  }
 },
 "nbformat": 4,
 "nbformat_minor": 2
}
